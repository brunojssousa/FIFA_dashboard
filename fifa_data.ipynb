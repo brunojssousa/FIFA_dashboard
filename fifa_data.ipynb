{
 "cells": [
  {
   "cell_type": "code",
   "execution_count": null,
   "metadata": {},
   "outputs": [],
   "source": [
    "#import all files\n",
    "\n",
    "import pandas as pd\n",
    "\n",
    "fifa_15 = pd.read_csv(\"players_15.csv\")\n",
    "fifa_16 = pd.read_csv(\"players_16.csv\")\n",
    "fifa_17 = pd.read_csv(\"players_17.csv\")\n",
    "fifa_18 = pd.read_csv(\"players_18.csv\")\n",
    "fifa_19 = pd.read_csv(\"players_19.csv\")\n",
    "fifa_20 = pd.read_csv(\"players_20.csv\")"
   ]
  },
  {
   "cell_type": "code",
   "execution_count": null,
   "metadata": {},
   "outputs": [],
   "source": [
    "#insert year tag\n",
    "\n",
    "fifa_15.insert(0, \"year\", pd.to_datetime(\"2015\"))\n",
    "fifa_16.insert(0, \"year\", pd.to_datetime(\"2016\"))\n",
    "fifa_17.insert(0, \"year\", pd.to_datetime(\"2017\"))\n",
    "fifa_18.insert(0, \"year\", pd.to_datetime(\"2018\"))\n",
    "fifa_19.insert(0, \"year\", pd.to_datetime(\"2019\"))\n",
    "fifa_20.insert(0, \"year\", pd.to_datetime(\"2020\"))"
   ]
  },
  {
   "cell_type": "code",
   "execution_count": null,
   "metadata": {},
   "outputs": [],
   "source": [
    "# join everything in one dataframe\n",
    " \n",
    "fifa_full = pd.concat([fifa_15, fifa_16, fifa_17, fifa_18, fifa_19, fifa_20], ignore_index=True)"
   ]
  },
  {
   "cell_type": "code",
   "execution_count": null,
   "metadata": {},
   "outputs": [],
   "source": [
    "# export csv to use in power bi\n",
    "\n",
    "# fifa_full.to_csv(\"fifa_full.csv\")"
   ]
  }
 ],
 "metadata": {
  "kernelspec": {
   "display_name": "Python 3",
   "language": "python",
   "name": "python3"
  },
  "language_info": {
   "codemirror_mode": {
    "name": "ipython",
    "version": 3
   },
   "file_extension": ".py",
   "mimetype": "text/x-python",
   "name": "python",
   "nbconvert_exporter": "python",
   "pygments_lexer": "ipython3",
   "version": "3.12.3"
  }
 },
 "nbformat": 4,
 "nbformat_minor": 2
}
